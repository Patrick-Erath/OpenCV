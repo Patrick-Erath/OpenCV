{
 "cells": [
  {
   "cell_type": "markdown",
   "metadata": {},
   "source": [
    "## 2.1 -  Implement K-means clustering from scratch"
   ]
  },
  {
   "cell_type": "code",
   "execution_count": 34,
   "metadata": {},
   "outputs": [],
   "source": [
    "import numpy as np\n",
    "import cv2\n",
    "\n",
    "img = cv2.imread(\"flower.jpg\")\n",
    "\n",
    "# 1. Randomly select K centers\n",
    "\n",
    "# 2. Assign each point to the nearest cluster\n",
    "\n",
    "# Compute new center (mean) for each cluster\n",
    "\n",
    "def k_means(k, img):\n",
    "    height, width, ch = img.shape\n",
    "    \n",
    "    # 1. Randomly select K centers\n",
    "    # We do this by create a random array of RGB values for each K \n",
    "    centers = np.random.random_sample((k, ch))*255\n",
    "    \n",
    "    # Get the cluster group of each pixel\n",
    "    # Arr shape = (K, height, width), where K is cluster group\n",
    "    clusters = calc_distance(img, centers)\n",
    "\n",
    "    \n",
    "    # Assign each point to the nearest cluster\n",
    "    #clusters = np.argmin(d)\n",
    "    \n",
    "    #distance = calc_distances(img, centers)\n",
    "    \n",
    "def calc_distance(points, centers):\n",
    "    dists = []\n",
    "    # Calculate the distance between each point and each center\n",
    "    for center in centers:\n",
    "        dists.append([img - center])\n",
    "    dists = np.linalg.norm(dists, axis=-1)\n",
    "    \n",
    "    # Return closest center of each point\n",
    "    return np.argmin(dists, axis=0)\n",
    "    \n",
    "\n",
    "\n",
    "k_means(2, img)"
   ]
  },
  {
   "cell_type": "code",
   "execution_count": null,
   "metadata": {},
   "outputs": [],
   "source": []
  },
  {
   "cell_type": "code",
   "execution_count": null,
   "metadata": {},
   "outputs": [],
   "source": []
  }
 ],
 "metadata": {
  "kernelspec": {
   "display_name": "Python 3",
   "language": "python",
   "name": "python3"
  },
  "language_info": {
   "codemirror_mode": {
    "name": "ipython",
    "version": 3
   },
   "file_extension": ".py",
   "mimetype": "text/x-python",
   "name": "python",
   "nbconvert_exporter": "python",
   "pygments_lexer": "ipython3",
   "version": "3.7.2"
  }
 },
 "nbformat": 4,
 "nbformat_minor": 2
}
