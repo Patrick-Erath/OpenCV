{
 "cells": [
  {
   "cell_type": "markdown",
   "metadata": {},
   "source": [
    "## 2.1 -  Implement K-means clustering from scratch"
   ]
  },
  {
   "cell_type": "markdown",
   "metadata": {},
   "source": [
    "### 2.1.1"
   ]
  },
  {
   "cell_type": "code",
   "execution_count": 283,
   "metadata": {},
   "outputs": [],
   "source": [
    "import numpy as np\n",
    "import math\n",
    "import cv2\n",
    "import matplotlib.pyplot as plt\n",
    "\n",
    "img = cv2.imread(\"flower.jpg\", cv2.COLOR_BGR2RGB)\n",
    "img = np.float32(img)\n",
    "\n",
    "\n",
    "# 1. Randomly select K centers\n",
    "\n",
    "# 2. Assign each point to the nearest cluster\n",
    "\n",
    "# Compute new center (mean) for each cluster\n",
    "\n",
    "def k_means(img, k, iter_n):\n",
    "    \"\"\"\n",
    "    Segments the image\n",
    "    -----\n",
    "    args img: image to be segmented\n",
    "    args k: number of clusters\n",
    "    args iter: iteration numbers\n",
    "    \"\"\"\n",
    "    height, width, ch = img.shape\n",
    "    \n",
    "    # 1. Randomly select K centers\n",
    "    # We do this by create a random array of RGB or GRAY values for each K \n",
    "    centers = np.random.random_sample((k, ch))*255\n",
    "    \n",
    "    cluster_iter = []\n",
    "    for i in range(iter_n):\n",
    "        # 2. Assign each point to the nearest cluster\n",
    "        # Arr shape = (K, height, width), where K is cluster group\n",
    "        clusters = calc_distance(img, centers)\n",
    "        cluster_iter.append(clusters)\n",
    "        \n",
    "        # 3. Compute new mean for each cluster \n",
    "        new_centers = np.empty(shape=(k, ch))\n",
    "        for j in range(k):\n",
    "            np.mean(img[clusters[0]==j], axis=0, out=new_centers[j])\n",
    "            \n",
    "        # If new centers and centers are the same, exit iteration\n",
    "        if((centers == new_centers).all()):\n",
    "            break\n",
    "        else:\n",
    "            centers = new_centers\n",
    "            \n",
    "    return cluster_iter\n",
    "    \n",
    "def calc_distance(points, centers):\n",
    "    \"\"\"\n",
    "    Calculates the eucilidean distance between points and center\n",
    "    -----\n",
    "    args points: the points \n",
    "    args centers: the centers of the distributions\n",
    "    \"\"\"\n",
    "    dists = []\n",
    "    # Calculate the distance between each point and each center\n",
    "    for center in centers:\n",
    "        dists.append([img - center])\n",
    "    dists = np.linalg.norm(dists, axis=-1)\n",
    "    \n",
    "    # Return closest center of each point\n",
    "    return np.argmin(dists, axis=0)\n",
    "   \n",
    "def show_plot(imgs, cols=3, isGray = False):  \n",
    "    for i in range(len(imgs)):\n",
    "        plt.figure(figsize=(20, 4))\n",
    "        if(i==5):\n",
    "            plt.title(\"Final Iteration\")\n",
    "        else:\n",
    "            plt.title(\"Iteration number: \"+str(i))\n",
    "        plt.axis('off')\n",
    "        if(isGray):\n",
    "            plt.imshow(clusters[i][0].astype(np.uint8), cmap='gray')\n",
    "        else:\n",
    "            plt.imshow(clusters[i][0].astype(np.uint8))\n",
    "        plt.show()  \n",
    "        \n",
    "def show_figures(imgs, isGray = False):\n",
    "    \"\"\"\n",
    "    Plots figures in groups of three\n",
    "    -----\n",
    "    args imgs: array of images to be shown\n",
    "    args isGray: if cmap = gray or not, defaulted to false\n",
    "    \"\"\"\n",
    "    length = len(imgs)\n",
    "    arr = [131, 132, 133]\n",
    "    \n",
    "    j=0\n",
    "    for i in range(len(imgs)):\n",
    "        if(i%3==0):\n",
    "            plt.figure(figsize=(10,10))\n",
    "            j=0\n",
    "        \n",
    "        if(i!=len(imgs)-1):\n",
    "            print('hit! :',i)\n",
    "            plt.title(\"Iteration number: \"+str(i))\n",
    "        else:\n",
    "            plt.title(\"Final Iteration\")\n",
    "        plt.subplot(arr[j])\n",
    "        plt.xticks([]), plt.yticks([])\n",
    "        \n",
    "        if(isGray):\n",
    "            plt.imshow(clusters[i][0].astype(np.uint8), cmap='gray')\n",
    "        else:\n",
    "            plt.imshow(clusters[i][0].astype(np.uint8))\n",
    "        \n",
    "        j+=1\n",
    "    plt.show()"
   ]
  },
  {
   "cell_type": "code",
   "execution_count": 284,
   "metadata": {},
   "outputs": [
    {
     "name": "stdout",
     "output_type": "stream",
     "text": [
      "hit! : 0\n",
      "hit! : 1\n",
      "hit! : 2\n",
      "hit! : 3\n",
      "hit! : 4\n"
     ]
    },
    {
     "data": {
      "image/png": "[encoded data removed]",
      "text/plain": [
       "<Figure size 720x720 with 3 Axes>"
      ]
     },
     "metadata": {},
     "output_type": "display_data"
    },
    {
     "data": {
      "image/png": "[encoded data removed]",
      "text/plain": [
       "<Figure size 720x720 with 3 Axes>"
      ]
     },
     "metadata": {},
     "output_type": "display_data"
    }
   ],
   "source": [
    "clusters = k_means(img, 2, 6)\n",
    "#show_plot(clusters)\n",
    "show_figures(clusters)"
   ]
  },
  {
   "cell_type": "code",
   "execution_count": 285,
   "metadata": {},
   "outputs": [
    {
     "name": "stdout",
     "output_type": "stream",
     "text": [
      "hit! : 0\n",
      "hit! : 1\n",
      "hit! : 2\n",
      "hit! : 3\n",
      "hit! : 4\n"
     ]
    },
    {
     "data": {
      "image/png": "[encoded data removed]",
      "text/plain": [
       "<Figure size 720x720 with 3 Axes>"
      ]
     },
     "metadata": {},
     "output_type": "display_data"
    },
    {
     "data": {
      "image/png": "[encoded data removed]",
      "text/plain": [
       "<Figure size 720x720 with 3 Axes>"
      ]
     },
     "metadata": {},
     "output_type": "display_data"
    }
   ],
   "source": [
    "clusters = k_means(img, 3, 6)\n",
    "show_figures(clusters)"
   ]
  },
  {
   "cell_type": "code",
   "execution_count": 271,
   "metadata": {},
   "outputs": [
    {
     "data": {
      "image/png": "[encoded data removed]",
      "text/plain": [
       "<Figure size 720x720 with 3 Axes>"
      ]
     },
     "metadata": {},
     "output_type": "display_data"
    },
    {
     "data": {
      "image/png": "[encoded data removed]",
      "text/plain": [
       "<Figure size 720x720 with 3 Axes>"
      ]
     },
     "metadata": {},
     "output_type": "display_data"
    }
   ],
   "source": [
    "img_gray = cv2.imread(\"flower.jpg\", cv2.COLOR_BGR2RGB)\n",
    "img_gray = np.float32(img)\n",
    "clusters = k_means(img_gray, 2, 6)\n",
    "show_figures(clusters, isGray = True)"
   ]
  },
  {
   "cell_type": "code",
   "execution_count": 272,
   "metadata": {},
   "outputs": [
    {
     "data": {
      "image/png": "[encoded data removed]",
      "text/plain": [
       "<Figure size 720x720 with 3 Axes>"
      ]
     },
     "metadata": {},
     "output_type": "display_data"
    },
    {
     "data": {
      "image/png": "[encoded data removed]",
      "text/plain": [
       "<Figure size 720x720 with 3 Axes>"
      ]
     },
     "metadata": {},
     "output_type": "display_data"
    }
   ],
   "source": [
    "img_gray = cv2.imread(\"flower.jpg\", cv2.COLOR_BGR2RGB)\n",
    "img_gray = np.float32(img)\n",
    "clusters = k_means(img_gray, 3, 6)\n",
    "show_figures(clusters, isGray = True)"
   ]
  },
  {
   "cell_type": "code",
   "execution_count": 16,
   "metadata": {},
   "outputs": [],
   "source": [
    "# TODO : compare Color vs Gray scale\n"
   ]
  },
  {
   "cell_type": "markdown",
   "metadata": {},
   "source": [
    "## 2.1 -  Implement EM-means clustering from scratch"
   ]
  },
  {
   "cell_type": "code",
   "execution_count": 221,
   "metadata": {},
   "outputs": [],
   "source": [
    "import math\n",
    "\n",
    "# prob(Pt | cluster i ) : Probability Density Function (PDF)\n",
    "def prob_cluster(pixel, cent, std):\n",
    "    \"\"\"\n",
    "    Calculate the probability of association between a point and a\n",
    "    given Gaussian Distribution for each channel in a pixel.\n",
    "    -----\n",
    "    args pixel: the pixel. \n",
    "    args cent: the center of the Gaussian distribution. \n",
    "    args std: standard deviation OF Gaussian distribution. \n",
    "    -----\n",
    "    returns: PDF of each gaussian K for one pixel. \n",
    "    \"\"\"\n",
    "    gauss_pdf = []\n",
    "    for i in range(len(std)):\n",
    "        point_pdf = []\n",
    "        for j in range(len(pixel)):\n",
    "            temp = 1/((math.sqrt(2*math.pi))*std[i][j]) * math.e**(-.5*math.pow((pixel[j]-cent[i][j])/std[i][j],2))\n",
    "            point_pdf.append(temp)\n",
    "        gauss_pdf.append(np.linalg.norm(point_pdf, axis=-1))  \n",
    "    return gauss_pdf\n",
    "\n",
    "def em(img, k, iterations=10):\n",
    "    \"\"\"\n",
    "    Performs Expectation Maximization (EM) algorithm of an image \n",
    "    -----\n",
    "    args img: the input image\n",
    "    args k: the number of Gaussian Distributions\n",
    "    args iterations: the number of iterations \n",
    "    -----\n",
    "    \"\"\"\n",
    "    h, w, ch = img.shape\n",
    "    \n",
    "    if(k==1):\n",
    "        raise Exception('K cannot be 1')\n",
    "    \n",
    "    # Randomly define a center for each K Gaussian components\n",
    "    # This center will be the randomly initialized peak for the initial gaussian\n",
    "    gaus_peak = np.random.random((k, ch)) * 255\n",
    "    \n",
    "    # Probability that a point is in a given gaussian K\n",
    "    prob = np.full(k, (1/k))\n",
    "    # STD of a point being in a given gaussian K\n",
    "    std_gaus = np.full((k, ch), (255/k))\n",
    "    \n",
    "    print(\"Probability Gaussian\", prob_gaus)\n",
    "    print(\"STD Gaussian\", std_gaus)\n",
    "\n",
    "    iter_pdf = []\n",
    "    for iter in range(iterations):\n",
    "        # E-Step\n",
    "        # Assign each point a probability of being in each K Gaussian\n",
    "        pdf = np.empty(shape=(h, w, k))\n",
    "        for row in range(h):\n",
    "            for col in range(w):\n",
    "                pdf[row][col] = prob_cluster(img[row][col], gaus_peak, std_gaus)\n",
    "    \n",
    "        # Normalize the distribution\n",
    "        pixel_sum = np.sum(pdf * prob, axis=-1)\n",
    "        pixel_sum = pixel_sum.reshape((h, w, 1))\n",
    "        pdf = pdf / pixel_sum\n",
    "    \n",
    "        # Assign each pixel to a gaussian distribution\n",
    "        cluster_groups = np.argmax(pdf, axis=-1)\n",
    "        iter_pdf.append(cluster_groups)\n",
    "        \n",
    "        # M-Step\n",
    "        # Recalculate the Gaussian Distributions with newly assigned points\n",
    "        \n",
    "    \n",
    "    return iter_pdf\n",
    "            \n",
    "# Recalculate the Gaussian based on points"
   ]
  },
  {
   "cell_type": "code",
   "execution_count": 222,
   "metadata": {},
   "outputs": [
    {
     "name": "stdout",
     "output_type": "stream",
     "text": [
      "Probability Gaussian [0.5 0.5]\n",
      "STD Gaussian [[127.5 127.5 127.5]\n",
      " [127.5 127.5 127.5]]\n"
     ]
    },
    {
     "data": {
      "text/plain": [
       "array([[[0.96704119, 1.03295881],\n",
       "        [0.96751816, 1.03248184],\n",
       "        [0.96771885, 1.03228115],\n",
       "        ...,\n",
       "        [0.97400109, 1.02599891],\n",
       "        [0.97400109, 1.02599891],\n",
       "        [0.97871114, 1.02128886]],\n",
       "\n",
       "       [[0.96704119, 1.03295881],\n",
       "        [0.96777072, 1.03222928],\n",
       "        [0.96834575, 1.03165425],\n",
       "        ...,\n",
       "        [0.97761255, 1.02238745],\n",
       "        [0.97448239, 1.02551761],\n",
       "        [0.97598066, 1.02401934]],\n",
       "\n",
       "       [[0.96660166, 1.03339834],\n",
       "        [0.96704119, 1.03295881],\n",
       "        [0.96771885, 1.03228115],\n",
       "        ...,\n",
       "        [0.98649492, 1.01350508],\n",
       "        [0.97785693, 1.02214307],\n",
       "        [0.97377887, 1.02622113]],\n",
       "\n",
       "       ...,\n",
       "\n",
       "       [[0.99507888, 1.00492112],\n",
       "        [0.99821801, 1.00178199],\n",
       "        [1.00519097, 0.99480903],\n",
       "        ...,\n",
       "        [1.0116285 , 0.9883715 ],\n",
       "        [1.01139545, 0.98860455],\n",
       "        [1.01085821, 0.98914179]],\n",
       "\n",
       "       [[0.99668119, 1.00331881],\n",
       "        [0.99817983, 1.00182017],\n",
       "        [1.00598611, 0.99401389],\n",
       "        ...,\n",
       "        [1.01317781, 0.98682219],\n",
       "        [1.01343221, 0.98656779],\n",
       "        [1.01226501, 0.98773499]],\n",
       "\n",
       "       [[1.00824282, 0.99175718],\n",
       "        [1.01062757, 0.98937243],\n",
       "        [0.99834181, 1.00165819],\n",
       "        ...,\n",
       "        [1.00861754, 0.99138246],\n",
       "        [1.01343221, 0.98656779],\n",
       "        [1.01294939, 0.98705061]]])"
      ]
     },
     "execution_count": 222,
     "metadata": {},
     "output_type": "execute_result"
    }
   ],
   "source": [
    "x = em(img, 2)"
   ]
  },
  {
   "cell_type": "code",
   "execution_count": null,
   "metadata": {},
   "outputs": [],
   "source": [
    "k = 2\n",
    "ch = 3\n",
    "\n",
    "# Gaus peaks (centers)\n",
    "gaus_peak = np.random.random((k, ch)) * 255\n",
    "# Probability that a point is in a given gaussian K\n",
    "prob_gaus = np.full(k, (1/k))\n",
    "# STD of a point being in a given gaussian K\n",
    "std_gaus = np.full((k, ch), (255/k))\n",
    "\n",
    "print(\"Probability Peaks\", gaus_peak)\n",
    "print(\"Probability Gaussian\", prob_gaus)\n",
    "print(\"STD Gaussian\", std_gaus)"
   ]
  },
  {
   "cell_type": "code",
   "execution_count": 194,
   "metadata": {
    "scrolled": true
   },
   "outputs": [
    {
     "name": "stdout",
     "output_type": "stream",
     "text": [
      "pixel 32.3\n",
      "STD 100\n",
      "Center 208.26710226\n",
      "pixel 44.3\n",
      "STD 2\n",
      "Center 235.0362611\n",
      "pixel 59.2\n",
      "STD 3\n",
      "Center 210.2826962\n",
      "pixel 32.3\n",
      "STD 400\n",
      "Center 62.51236031\n",
      "pixel 44.3\n",
      "STD 5\n",
      "Center 67.88919874\n",
      "pixel 59.2\n",
      "STD 6\n",
      "Center 207.86393764\n"
     ]
    },
    {
     "data": {
      "text/plain": [
       "[0.00084825456463054, 0.0009945155286917964]"
      ]
     },
     "execution_count": 194,
     "metadata": {},
     "output_type": "execute_result"
    }
   ],
   "source": [
    "k = 2\n",
    "\n",
    "gaus_peaks = [[208.26710226, 235.0362611,  210.2826962],\n",
    "              [62.51236031,  67.88919874, 207.86393764]]\n",
    "PDF = [0.5, 0.5]\n",
    "#STD = [[127.5, 127.5, 127.5],\n",
    "        #[127.5, 127.5, 127.5]]\n",
    "STD = [[100, 2, 3],\n",
    "        [400, 5, 6]]\n",
    "pixel = [32.3, 44.3, 59.2]\n",
    "\n",
    "prob_cluster(pixel, gaus_peaks, STD)\n"
   ]
  },
  {
   "cell_type": "code",
   "execution_count": 212,
   "metadata": {},
   "outputs": [
    {
     "name": "stdout",
     "output_type": "stream",
     "text": [
      "[[5.6443 3.645 ]\n",
      " [6.91   2.312 ]]\n",
      "[[[5.6443]\n",
      "  [3.645 ]]\n",
      "\n",
      " [[6.91  ]\n",
      "  [2.312 ]]]\n",
      "[[[0.08858494 0.11415056]\n",
      "  [0.09116598 0.08834019]]\n",
      "\n",
      " [[0.09117221 0.08827786]\n",
      "  [0.09515571 0.04844291]]]\n"
     ]
    }
   ],
   "source": [
    "exp = [\n",
    "        [[0.5, 0.6443], [0.3323, 0.322]], # 1st row\n",
    "        [[0.63, 0.61], [0.22, 0.112]], # 2nd row\n",
    "    ]\n",
    "PDF = np.array([10, 1])\n",
    "\n",
    "k = 2\n",
    "h = 2\n",
    "w = 2\n",
    "tst = np.empty(shape=(h, w, k))\n",
    "\n",
    "denom = np.sum(exp * PDF, axis=-1)\n",
    "print(denom)\n",
    "denom = denom.reshape((h, w, 1))\n",
    "print(denom)\n",
    "exp = exp / denom\n",
    "print(exp)\n",
    "\n",
    "\n",
    "\n",
    "#denom = denom.reshape((h, w, 1))\n",
    "#exp = exp / denom"
   ]
  },
  {
   "cell_type": "code",
   "execution_count": 199,
   "metadata": {},
   "outputs": [
    {
     "ename": "IndentationError",
     "evalue": "unexpected indent (<ipython-input-199-15a2833f5710>, line 2)",
     "output_type": "error",
     "traceback": [
      "\u001b[0;36m  File \u001b[0;32m\"<ipython-input-199-15a2833f5710>\"\u001b[0;36m, line \u001b[0;32m2\u001b[0m\n\u001b[0;31m    for j in range(len(pixel)):\u001b[0m\n\u001b[0m    ^\u001b[0m\n\u001b[0;31mIndentationError\u001b[0m\u001b[0;31m:\u001b[0m unexpected indent\n"
     ]
    }
   ],
   "source": [
    "gauss_pdf = []\n",
    "    for j in range(len(pixel)):\n",
    "        point_pdf = []\n",
    "        for i in range(len(std)):\n",
    "            print('pixel', pixel[j])\n",
    "            print('STD',std[i][j])\n",
    "            print('Center',cent[i][j])\n",
    "            temp = 1/((math.sqrt(2*math.pi))*std[i][j]) * math.e**(-.5*math.pow((pixel[j]-cent[i][j])/std[i][j],2))\n",
    "            point_pdf.append(temp)\n",
    "    return point_pdf"
   ]
  },
  {
   "cell_type": "code",
   "execution_count": 236,
   "metadata": {},
   "outputs": [
    {
     "name": "stderr",
     "output_type": "stream",
     "text": [
      "Clipping input data to the valid range for imshow with RGB data ([0..1] for floats or [0..255] for integers).\n",
      "Clipping input data to the valid range for imshow with RGB data ([0..1] for floats or [0..255] for integers).\n",
      "Clipping input data to the valid range for imshow with RGB data ([0..1] for floats or [0..255] for integers).\n",
      "Clipping input data to the valid range for imshow with RGB data ([0..1] for floats or [0..255] for integers).\n",
      "Clipping input data to the valid range for imshow with RGB data ([0..1] for floats or [0..255] for integers).\n",
      "Clipping input data to the valid range for imshow with RGB data ([0..1] for floats or [0..255] for integers).\n",
      "Clipping input data to the valid range for imshow with RGB data ([0..1] for floats or [0..255] for integers).\n",
      "Clipping input data to the valid range for imshow with RGB data ([0..1] for floats or [0..255] for integers).\n",
      "Clipping input data to the valid range for imshow with RGB data ([0..1] for floats or [0..255] for integers).\n",
      "Clipping input data to the valid range for imshow with RGB data ([0..1] for floats or [0..255] for integers).\n"
     ]
    },
    {
     "data": {
      "text/plain": [
       "<Figure size 720x720 with 0 Axes>"
      ]
     },
     "metadata": {},
     "output_type": "display_data"
    },
    {
     "data": {
      "image/png": "[encoded data removed]",
      "text/plain": [
       "<Figure size 720x720 with 3 Axes>"
      ]
     },
     "metadata": {
      "needs_background": "light"
     },
     "output_type": "display_data"
    },
    {
     "data": {
      "image/png": "[encoded data removed]",
      "text/plain": [
       "<Figure size 720x720 with 3 Axes>"
      ]
     },
     "metadata": {
      "needs_background": "light"
     },
     "output_type": "display_data"
    },
    {
     "data": {
      "image/png": "[encoded data removed]",
      "text/plain": [
       "<Figure size 720x720 with 3 Axes>"
      ]
     },
     "metadata": {
      "needs_background": "light"
     },
     "output_type": "display_data"
    },
    {
     "data": {
      "image/png": "[encoded data removed]",
      "text/plain": [
       "<Figure size 720x720 with 1 Axes>"
      ]
     },
     "metadata": {
      "needs_background": "light"
     },
     "output_type": "display_data"
    }
   ],
   "source": [
    "img = cv2.imread(\"flower.jpg\", cv2.COLOR_BGR2RGB)\n",
    "img = np.float32(img)\n",
    "\n",
    "def show_plot(imgs):\n",
    "    length = len(imgs)\n",
    "    arr = [131, 132, 133]\n",
    "    \n",
    "    plt.figure(figsize=(10,10))\n",
    "    j = 0\n",
    "    for img in imgs:\n",
    "        if(j%3==0):\n",
    "            plt.figure(figsize=(10,10))\n",
    "            j=0\n",
    "        plt.subplot(arr[j])\n",
    "        plt.imshow(img)\n",
    "        j+=1\n",
    "    plt.show()\n",
    "    \n",
    "\n",
    "imgs = []\n",
    "for i in range(10):\n",
    "    imgs.append(img)\n",
    "    \n",
    "show_plot(imgs)\n"
   ]
  },
  {
   "cell_type": "code",
   "execution_count": null,
   "metadata": {},
   "outputs": [],
   "source": []
  }
 ],
 "metadata": {
  "kernelspec": {
   "display_name": "Python 3",
   "language": "python",
   "name": "python3"
  },
  "language_info": {
   "codemirror_mode": {
    "name": "ipython",
    "version": 3
   },
   "file_extension": ".py",
   "mimetype": "text/x-python",
   "name": "python",
   "nbconvert_exporter": "python",
   "pygments_lexer": "ipython3",
   "version": "3.7.2"
  }
 },
 "nbformat": 4,
 "nbformat_minor": 2
}
