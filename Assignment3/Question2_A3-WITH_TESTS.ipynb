{
 "cells": [
  {
   "cell_type": "markdown",
   "metadata": {},
   "source": [
    "## 2.1.1 -  Implement K-means clustering from scratch"
   ]
  },
  {
   "cell_type": "code",
   "execution_count": 253,
   "metadata": {},
   "outputs": [],
   "source": [
    "def kmeans(img, k, iter ):\n",
    "     \"\"\"\n",
    "    Segments the image\n",
    "    -----\n",
    "    args img: image to be segmented\n",
    "    args k: number of clusters\n",
    "    args iter: iteration numbers\n",
    "    \"\"\"\n",
    "    w, h, ch = img.shape\n",
    "\n",
    "    # Get image data points\n",
    "    data_pts = img.reshape((w*h,ch))\n",
    "    data_pts = np.float32(data_pts)\n",
    "    \n",
    "     # 1. Randomly select K centers\n",
    "    # We do this by create a random array of RGB or GRAY values for each K \n",
    "    center = data_pts[np.random.randint(data_pts.shape[0], size=k)]\n",
    "    \n",
    "    # vectors to store calculated distance and assignment\n",
    "    vect = np.zeros(data_pts.shape[0], dtype=np.float64)\n",
    "    \n",
    "    dist = np.zeros([data_pts.shape[0], k], dtype=np.float64)\n",
    "   \n",
    "    cluster_iter = []\n",
    "    for i in range(iter):\n",
    "        for i, j in enumerate(center):\n",
    "            # Calculate euclidian distance\n",
    "            # Assign each point to nearest cluster by calculating its distance to each center\n",
    "            dist[:, i] = euclidian_distance(j, data_pts)\n",
    "\n",
    "        # Adjust clusters based on minimal distance\n",
    "        min_dist = np.argmin(dist, axis=1)\n",
    "    \n",
    "\n",
    "        # Adjust center of each cluster\n",
    "        for c in range(k):\n",
    "            center[c] = np.mean(data_pts[min_dist == c], 0)\n",
    "\n",
    "            center_temp = np.uint8(center)\n",
    "            cluster_tmp = center_temp[min_dist.flatten()]\n",
    "            if(ch>1):\n",
    "                cluster_tmp = cluster_tmp.reshape((w, h, ch))\n",
    "            else:\n",
    "                cluster_tmp = cluster_tmp.reshape((w, h))\n",
    "            cluster_iter.append(cluster_tmp)\n",
    "\n",
    "    # convert back to int\n",
    "    center = np.uint8(center)\n",
    "    \n",
    "    # get clusters\n",
    "    cluster = center[min_dist.flatten()]\n",
    "    if(ch==1):\n",
    "        cluster = cluster.reshape((w, h))\n",
    "    else:\n",
    "        cluster = cluster.reshape((w, h, ch))\n",
    "\n",
    "    return cluster_iter\n",
    "\n",
    "def euclidian_distance(center, data_pts):\n",
    "    return np.linalg.norm(data_pts - center, axis=1)\n",
    "\n"
   ]
  },
  {
   "cell_type": "markdown",
   "metadata": {},
   "source": [
    "### 2.1.1 - Applying K-means with K=2"
   ]
  },
  {
   "cell_type": "code",
   "execution_count": 171,
   "metadata": {},
   "outputs": [],
   "source": []
  },
  {
   "cell_type": "code",
   "execution_count": 156,
   "metadata": {},
   "outputs": [
    {
     "data": {
      "image/png": "[encoded data removed]",
      "text/plain": [
       "<Figure size 720x720 with 3 Axes>"
      ]
     },
     "metadata": {},
     "output_type": "display_data"
    },
    {
     "data": {
      "image/png": "[encoded data removed]",
      "text/plain": [
       "<Figure size 720x720 with 3 Axes>"
      ]
     },
     "metadata": {},
     "output_type": "display_data"
    }
   ],
   "source": [
    "clusters = k_means(img, 2, 6)\n",
    "show_figures(clusters)"
   ]
  },
  {
   "cell_type": "markdown",
   "metadata": {},
   "source": [
    "### 2.1.1 - Applying K-means with K=3"
   ]
  },
  {
   "cell_type": "code",
   "execution_count": 332,
   "metadata": {},
   "outputs": [],
   "source": [
    "\n",
    "# Euclidian distance\n",
    "def euclidian_distance(centroid, data_pts):\n",
    "    return np.linalg.norm(data_pts - centroid, axis=1)\n",
    "\n",
    "\n",
    "def kmeans(img, k, iter ):\n",
    "    \"\"\"\n",
    "    Segments the image\n",
    "    -----\n",
    "    args img: image to be segmented\n",
    "    args k: number of clusters\n",
    "    args iter: iteration numbers\n",
    "    \"\"\"\n",
    "    w, h, ch = img.shape\n",
    "\n",
    "    # Get image data points\n",
    "    data_pts = img.reshape((w*h,ch))\n",
    "    data_pts = np.float32(data_pts)\n",
    "    \n",
    "     # 1. Randomly select K centers\n",
    "    # We do this by create a random array of RGB or GRAY values for each K \n",
    "    center = data_pts[np.random.randint(data_pts.shape[0], size=k)]\n",
    "    \n",
    "    # vectors to store calculated distance and assignment\n",
    "    vect = np.zeros(data_pts.shape[0], dtype=np.float64)\n",
    "    \n",
    "    dist = np.zeros([data_pts.shape[0], k], dtype=np.float64)\n",
    "   \n",
    "    cluster_iter = []\n",
    "    l=0\n",
    "    for i in range(iter):\n",
    "        for i, j in enumerate(center):\n",
    "            # Calculate euclidian distance\n",
    "            # Assign each point to nearest cluster by calculating its distance to each center\n",
    "            dist[:, i] = euclidian_distance(j, data_pts)\n",
    "\n",
    "        # Adjust clusters based on minimal distance\n",
    "        min_dist = np.argmin(dist, axis=1)\n",
    "    \n",
    "\n",
    "        # Adjust center of each cluster\n",
    "        for c in range(k):\n",
    "            center[c] = np.mean(data_pts[min_dist == c], 0)\n",
    "        \n",
    "        # Store first 5 iterations\n",
    "        center_temp = np.uint8(center)\n",
    "        cluster_tmp = center_temp[min_dist.flatten()]\n",
    "        if(ch>1):\n",
    "            cluster_tmp = cluster_tmp.reshape((w, h, ch))\n",
    "        else:\n",
    "            cluster_tmp = cluster_tmp.reshape((w, h))\n",
    "        cluster_iter.append(cluster_tmp)\n",
    "\n",
    "    # convert back to int\n",
    "    center = np.uint8(center)\n",
    "    \n",
    "    # get clusters\n",
    "    cluster = center[min_dist.flatten()]\n",
    "    if(ch==1):\n",
    "        cluster = cluster.reshape((w, h))\n",
    "    else:\n",
    "        cluster = cluster.reshape((w, h, ch))\n",
    "\n",
    "\n",
    "    return cluster_iter\n",
    "\n",
    "def euclidian_distance(center, data_pts):\n",
    "    return np.linalg.norm(data_pts - center, axis=1)\n",
    "\n",
    "def show_plot(imgs, cols=3, isGray = False):  \n",
    "    arr = [131, 132, 133]\n",
    "    \n",
    "    j=0\n",
    "    for i in range(len(imgs)):\n",
    "        if(i%3==0):\n",
    "            plt.figure(figsize=(10,10))\n",
    "            j=0\n",
    "        plt.subplot(arr[j])\n",
    "        plt.xticks([]), plt.yticks([])\n",
    "        plt.imshow(imgs[i])\n",
    "        j+=1\n",
    "        if(i!=len(imgs)-1):\n",
    "            plt.title(\"Iteration number: \"+str(i))\n",
    "            \n",
    "    plt.title(\"Final Iteration\")    \n",
    "    plt.show()"
   ]
  },
  {
   "cell_type": "code",
   "execution_count": 336,
   "metadata": {
    "scrolled": true
   },
   "outputs": [
    {
     "data": {
      "image/png": "[encoded data removed]",
      "text/plain": [
       "<Figure size 720x720 with 3 Axes>"
      ]
     },
     "metadata": {},
     "output_type": "display_data"
    },
    {
     "data": {
      "image/png": "[encoded data removed]",
      "text/plain": [
       "<Figure size 720x720 with 3 Axes>"
      ]
     },
     "metadata": {},
     "output_type": "display_data"
    }
   ],
   "source": [
    "#Eread image \n",
    "img = cv2.imread('flower.jpg')\n",
    "\n",
    "#convert to rgb, K=2\n",
    "img_rgb = cv2.cvtColor(img, cv2.COLOR_BGR2RGB)\n",
    "\n",
    "clusters_rgb = kmeans(img_rgb, 2, 6)\n",
    "w,h,ch = img.shape\n",
    "#clusters_rgb = kmeans(img_rgb, w,h,ch, 2, 10)[1]\n",
    "\n",
    "show_plot(clusters_rgb)"
   ]
  },
  {
   "cell_type": "markdown",
   "metadata": {},
   "source": [
    "### 2.1.1 - Applying K-means with grayscale and K=2"
   ]
  },
  {
   "cell_type": "code",
   "execution_count": 12,
   "metadata": {},
   "outputs": [
    {
     "data": {
      "image/png": "[encoded data removed]",
      "text/plain": [
       "<Figure size 720x720 with 3 Axes>"
      ]
     },
     "metadata": {},
     "output_type": "display_data"
    },
    {
     "data": {
      "image/png": "[encoded data removed]",
      "text/plain": [
       "<Figure size 720x720 with 3 Axes>"
      ]
     },
     "metadata": {},
     "output_type": "display_data"
    }
   ],
   "source": [
    "img_gray = cv2.imread(\"flower.jpg\", cv2.COLOR_BGR2RGB)\n",
    "img_gray = np.float32(img)\n",
    "clusters = k_means(img_gray, 2, 6)\n",
    "show_figures(clusters, isGray = True)"
   ]
  },
  {
   "cell_type": "markdown",
   "metadata": {},
   "source": [
    "### 2.1.1 - Applying K-means with grayscale and K=3"
   ]
  },
  {
   "cell_type": "code",
   "execution_count": 14,
   "metadata": {},
   "outputs": [
    {
     "data": {
      "image/png": "[encoded data removed]",
      "text/plain": [
       "<Figure size 720x720 with 3 Axes>"
      ]
     },
     "metadata": {},
     "output_type": "display_data"
    },
    {
     "data": {
      "image/png": "[encoded data removed]",
      "text/plain": [
       "<Figure size 720x720 with 3 Axes>"
      ]
     },
     "metadata": {},
     "output_type": "display_data"
    }
   ],
   "source": [
    "img_gray = cv2.imread(\"flower.jpg\", cv2.COLOR_BGR2RGB)\n",
    "img_gray = np.float32(img)\n",
    "clusters = k_means(img_gray, 3, 6)\n",
    "show_figures(clusters, isGray = True)"
   ]
  },
  {
   "cell_type": "markdown",
   "metadata": {},
   "source": [
    "### 2.1.1 - Comparing segmenetation for color and gray-scale"
   ]
  },
  {
   "cell_type": "code",
   "execution_count": 7,
   "metadata": {},
   "outputs": [],
   "source": [
    "# TODO : compare Color vs Gray scale\n"
   ]
  },
  {
   "cell_type": "markdown",
   "metadata": {},
   "source": [
    "## 2.1.2 -  Implement EM-means clustering from scratch"
   ]
  },
  {
   "cell_type": "code",
   "execution_count": 15,
   "metadata": {},
   "outputs": [],
   "source": [
    "import math\n",
    "\n",
    "# prob(Pt | cluster i ) : Probability Density Function (PDF)\n",
    "def prob_cluster(pixel, cent, std):\n",
    "    \"\"\"\n",
    "    Calculate the probability of association between a point and a\n",
    "    given Gaussian Distribution for each channel in a pixel.\n",
    "    -----\n",
    "    args pixel: the pixel. \n",
    "    args cent: the center of the Gaussian distribution. \n",
    "    args std: standard deviation OF Gaussian distribution. \n",
    "    -----\n",
    "    returns: PDF of each gaussian K for one pixel. \n",
    "    \"\"\"\n",
    "    gauss_pdf = []\n",
    "    for i in range(len(std)):\n",
    "        point_pdf = []\n",
    "        for j in range(len(pixel)):\n",
    "            temp = 1/((math.sqrt(2*math.pi))*std[i][j]) * math.e**(-.5*math.pow((pixel[j]-cent[i][j])/std[i][j],2))\n",
    "            point_pdf.append(temp)\n",
    "        gauss_pdf.append(np.linalg.norm(point_pdf, axis=-1))  \n",
    "    return gauss_pdf\n",
    "\n",
    "def em(img, k, iterations=10):\n",
    "    \"\"\"\n",
    "    Performs Expectation Maximization (EM) algorithm of an image \n",
    "    -----\n",
    "    args img: the input image\n",
    "    args k: the number of Gaussian Distributions\n",
    "    args iterations: the number of iterations \n",
    "    -----\n",
    "    \"\"\"\n",
    "    h, w, ch = img.shape\n",
    "    \n",
    "    if(k==1):\n",
    "        raise Exception('K cannot be 1')\n",
    "    \n",
    "    # Randomly define a center for each K Gaussian components\n",
    "    # This center will be the randomly initialized peak for the initial gaussian\n",
    "    gaus_peak = np.random.random((k, ch)) * 255\n",
    "    \n",
    "    # Probability that a point is in a given gaussian K\n",
    "    prob = np.full(k, (1/k))\n",
    "    # STD of a point being in a given gaussian K\n",
    "    std_gaus = np.full((k, ch), (255/k))\n",
    "\n",
    "    iter_pdf = []\n",
    "    for iter in range(iterations):\n",
    "        # E-Step\n",
    "        # Assign each point a probability of being in each K Gaussian\n",
    "        pdf = np.empty(shape=(h, w, k))\n",
    "        for row in range(h):\n",
    "            for col in range(w):\n",
    "                pdf[row][col] = prob_cluster(img[row][col], gaus_peak, std_gaus)\n",
    "    \n",
    "        # Normalize the distribution\n",
    "        pixel_sum = np.sum(pdf * prob, axis=-1)\n",
    "        pixel_sum = pixel_sum.reshape((h, w, 1))\n",
    "        pdf = pdf / pixel_sum\n",
    "    \n",
    "        # Assign each pixel to a gaussian distribution\n",
    "        cluster_groups = np.argmax(pdf, axis=-1)\n",
    "        iter_pdf.append(cluster_groups)\n",
    "        \n",
    "        # M-Step\n",
    "        # Recalculate the Gaussian Distributions with newly assigned points\n",
    "        for distr in range(k):\n",
    "            distr_sum = 0\n",
    "            for i in range(h):\n",
    "                for j in range(w):\n",
    "                    distr_sum += pdf[i, j, distr] * img[i, j]\n",
    "            \n",
    "            gaus_peak[distr] = distr_sum / np.sum(pdf[:,:,distr])\n",
    "            curr_cluster = img[cluster_groups==distr]\n",
    "            std_gaus[distr] = np.sqrt(np.var(curr_cluster, axis=0))\n",
    "            pdf[distr] = np.size(curr_cluster) / np.size(img)\n",
    "    \n",
    "    return iter_pdf"
   ]
  },
  {
   "cell_type": "markdown",
   "metadata": {},
   "source": [
    "### 2.1.2 - Applying EM with K=2"
   ]
  },
  {
   "cell_type": "code",
   "execution_count": 17,
   "metadata": {},
   "outputs": [],
   "source": [
    "img = cv2.imread(\"flower.jpg\", cv2.COLOR_BGR2RGB)\n",
    "img = np.float32(img)\n",
    "\n",
    "em_gaussian2 = em(img, 2, 6)\n",
    "#show_figures(em_gaussian2)"
   ]
  },
  {
   "cell_type": "markdown",
   "metadata": {},
   "source": [
    "### 2.1.2 - Applying EM with K=3"
   ]
  },
  {
   "cell_type": "code",
   "execution_count": 41,
   "metadata": {},
   "outputs": [
    {
     "data": {
      "image/png": "[encoded data removed]",
      "text/plain": [
       "<Figure size 720x720 with 3 Axes>"
      ]
     },
     "metadata": {},
     "output_type": "display_data"
    },
    {
     "data": {
      "image/png": "[encoded data removed]",
      "text/plain": [
       "<Figure size 720x720 with 3 Axes>"
      ]
     },
     "metadata": {},
     "output_type": "display_data"
    }
   ],
   "source": [
    "em_gaussian3 = em(img, 3, 6)\n",
    "show_figures(em_gaussian3)"
   ]
  },
  {
   "cell_type": "markdown",
   "metadata": {},
   "source": [
    "### 2.1.2 - Applying EM with Grayscale and K=2"
   ]
  },
  {
   "cell_type": "code",
   "execution_count": null,
   "metadata": {},
   "outputs": [],
   "source": [
    "img_gray = cv2.imread(\"flower.jpg\", cv2.COLOR_BGR2GRAY)\n",
    "img_gray = np.float32(img_gray)\n",
    "\n",
    "em_gray_2 = em(img_gray, 2, 6)\n",
    "show_figures(em_gray_2)"
   ]
  },
  {
   "cell_type": "markdown",
   "metadata": {},
   "source": [
    "### 2.1.2 - Applying EM with Grayscale and K=3 "
   ]
  },
  {
   "cell_type": "code",
   "execution_count": null,
   "metadata": {},
   "outputs": [],
   "source": [
    "em_gray_3 = em(img_gray, 3, 6)\n",
    "show_figures(em_gray_3)"
   ]
  },
  {
   "cell_type": "code",
   "execution_count": null,
   "metadata": {},
   "outputs": [],
   "source": [
    "k = 2\n",
    "ch = 3\n",
    "\n",
    "# Gaus peaks (centers)\n",
    "gaus_peak = np.random.random((k, ch)) * 255\n",
    "# Probability that a point is in a given gaussian K\n",
    "prob_gaus = np.full(k, (1/k))\n",
    "# STD of a point being in a given gaussian K\n",
    "std_gaus = np.full((k, ch), (255/k))\n",
    "\n",
    "print(\"Probability Peaks\", gaus_peak)\n",
    "print(\"Probability Gaussian\", prob_gaus)\n",
    "print(\"STD Gaussian\", std_gaus)"
   ]
  },
  {
   "cell_type": "code",
   "execution_count": null,
   "metadata": {
    "scrolled": true
   },
   "outputs": [],
   "source": [
    "k = 2\n",
    "\n",
    "gaus_peaks = [[208.26710226, 235.0362611,  210.2826962],\n",
    "              [62.51236031,  67.88919874, 207.86393764]]\n",
    "PDF = [0.5, 0.5]\n",
    "#STD = [[127.5, 127.5, 127.5],\n",
    "        #[127.5, 127.5, 127.5]]\n",
    "STD = [[100, 2, 3],\n",
    "        [400, 5, 6]]\n",
    "pixel = [32.3, 44.3, 59.2]\n",
    "\n",
    "prob_cluster(pixel, gaus_peaks, STD)\n"
   ]
  },
  {
   "cell_type": "code",
   "execution_count": null,
   "metadata": {},
   "outputs": [],
   "source": [
    "exp = [\n",
    "        [[0.5, 0.6443], [0.3323, 0.322]], # 1st row\n",
    "        [[0.63, 0.61], [0.22, 0.112]], # 2nd row\n",
    "    ]\n",
    "PDF = np.array([10, 1])\n",
    "\n",
    "k = 2\n",
    "h = 2\n",
    "w = 2\n",
    "tst = np.empty(shape=(h, w, k))\n",
    "\n",
    "denom = np.sum(exp * PDF, axis=-1)\n",
    "print(denom)\n",
    "denom = denom.reshape((h, w, 1))\n",
    "print(denom)\n",
    "exp = exp / denom\n",
    "print(exp)\n",
    "\n",
    "\n",
    "\n",
    "#denom = denom.reshape((h, w, 1))\n",
    "#exp = exp / denom"
   ]
  },
  {
   "cell_type": "code",
   "execution_count": null,
   "metadata": {},
   "outputs": [],
   "source": [
    "gauss_pdf = []\n",
    "    for j in range(len(pixel)):\n",
    "        point_pdf = []\n",
    "        for i in range(len(std)):\n",
    "            print('pixel', pixel[j])\n",
    "            print('STD',std[i][j])\n",
    "            print('Center',cent[i][j])\n",
    "            temp = 1/((math.sqrt(2*math.pi))*std[i][j]) * math.e**(-.5*math.pow((pixel[j]-cent[i][j])/std[i][j],2))\n",
    "            point_pdf.append(temp)\n",
    "    return point_pdf"
   ]
  },
  {
   "cell_type": "code",
   "execution_count": null,
   "metadata": {},
   "outputs": [],
   "source": [
    "img = cv2.imread(\"flower.jpg\", cv2.COLOR_BGR2RGB)\n",
    "img = np.float32(img)\n",
    "\n",
    "def show_plot(imgs):\n",
    "    length = len(imgs)\n",
    "    arr = [131, 132, 133]\n",
    "    \n",
    "    plt.figure(figsize=(10,10))\n",
    "    j = 0\n",
    "    for img in imgs:\n",
    "        if(j%3==0):\n",
    "            plt.figure(figsize=(10,10))\n",
    "            j=0\n",
    "        plt.subplot(arr[j])\n",
    "        plt.imshow(img)\n",
    "        j+=1\n",
    "    plt.show()\n",
    "    \n",
    "\n",
    "imgs = []\n",
    "for i in range(10):\n",
    "    imgs.append(img)\n",
    "    \n",
    "show_plot(imgs)\n"
   ]
  },
  {
   "cell_type": "code",
   "execution_count": null,
   "metadata": {},
   "outputs": [],
   "source": [
    "def k_means_data_points(data, k, iter_n):\n",
    "    \"\"\"\n",
    "    Segments the image\n",
    "    -----\n",
    "    args img: image to be segmented\n",
    "    args k: number of clusters\n",
    "    args iter: iteration numbers\n",
    "    \"\"\"\n",
    "    height, width = data.shape\n",
    "    \n",
    "    # 1. Randomly select K centers\n",
    "    centers = np.random.random_sample((k, 2))*10\n",
    "\n",
    "    cluster_iter = []\n",
    "    for i in range(iter_n):\n",
    "        # 2. Assign each point to the nearest cluster\n",
    "        # Calculate distance between each point and each center\n",
    "        distance = np.zeros((k, height))\n",
    "        for i in range(0, height):\n",
    "            for j in range(k):\n",
    "                distance[j][i] = math.sqrt(\n",
    "                    (centers[j][0] - data[i][0])**2 + (centers[j][1] - data[i][1])**2\n",
    "                )\n",
    "\n",
    "        # 2. Assign each point to the nearest cluster\n",
    "        cluster = np.zeros(height)\n",
    "        for i in range(len(distance[0])):\n",
    "            if(distance[0][i] > distance[1][i]):\n",
    "                cluster[i] = 0\n",
    "            else:\n",
    "                cluster[i] =1\n",
    "        \n",
    "        cluster_iter.append(cluster)\n",
    "\n",
    "        # 3. and Compute new mean for each cluster \n",
    "        centers = compute_mean(cluster, height, k)\n",
    "\n",
    "    return cluster_iter, centers\n",
    "\n",
    "\"\"\"\n",
    "Following code generates datapoints for question 1.1 part 3.\n",
    "\"\"\"\n",
    "data = np.float32(\n",
    "    np.vstack((\n",
    "        np.random.normal(\n",
    "            loc = np.array([5,5]),\n",
    "            scale = np.array([3,2]),\n",
    "            size = (1000, 2)),\n",
    "        np.random.normal(\n",
    "            loc = np.array([-5, -5]),\n",
    "            scale = np.array([5, 1]),\n",
    "            size = (1000, 2)\n",
    "        ))))\n",
    "   \n",
    "test, centers = k_means_data_points(data, k=2, iter_n=5)\n",
    "test = test[4]\n",
    "\n",
    "plt.figure(figsize=(10,5))\n",
    "plt.subplot(121)\n",
    "plt.plot(data[:,0], data[:,1],\"ko\")\n",
    "plt.title(\"Data points\")\n",
    "\n",
    "plt.subplot(122)\n",
    "\n",
    "red_x = []\n",
    "red_y = []\n",
    "blue_x = []\n",
    "blue_y = []\n",
    "\n",
    "for i in range(2000):\n",
    "    if(test[i] == 0):\n",
    "        red_x.append(data[i,0])\n",
    "        red_y.append(data[i,1])\n",
    "    elif(test[i] == 1):\n",
    "        blue_x.append(data[i,0])\n",
    "        blue_y.append(data[i,1]) \n",
    "    \n",
    "plt.scatter(red_x, red_y, color='r')\n",
    "plt.scatter(blue_x, blue_y, color='b')\n",
    "plt.scatter((centers[0][0], centers[1][0]), (centers[0][1], centers[1][1]), s=80, color='y', marker='*')\n",
    "plt.title(\"Data points - Labeled\")\n",
    "plt.show()\n",
    "\n",
    "#em(data, k=2, iterations = 5)\n",
    "\n",
    "#distance[j][i] = np.argmin(distance[], axis=0)\n"
   ]
  },
  {
   "cell_type": "code",
   "execution_count": 337,
   "metadata": {},
   "outputs": [
    {
     "name": "stdout",
     "output_type": "stream",
     "text": [
      "DATA:\n",
      "[[  3.0430636   3.4464607]\n",
      " [  4.6915812   2.4990325]\n",
      " [  3.9146636   4.7886043]\n",
      " [  1.9891754   1.0638087]\n",
      " [ -4.6918697  -5.2456555]\n",
      " [ -3.3276746  -4.6090813]\n",
      " [ -8.141927   -4.6693363]\n",
      " [-11.462214   -4.8630342]]\n",
      "********************\n",
      "GAUS_PEAKS:\n",
      "[[1.14891325 0.54253917]\n",
      " [3.2276777  1.54563786]]\n",
      "********************\n",
      "pdf  0.0006103959060988678\n",
      "data 3.0430636\n",
      "pdf  0.00037765719570741815\n",
      "data 3.4464607\n",
      "pdf  0.0006103959060988678\n",
      "data 4.6915812\n",
      "pdf  0.00037765719570741815\n",
      "data 2.4990325\n",
      "pdf  0.0006103959060988678\n",
      "data 3.9146636\n",
      "pdf  0.00037765719570741815\n",
      "data 4.7886043\n",
      "pdf  0.0006103959060988678\n",
      "data 1.9891754\n",
      "pdf  0.00037765719570741815\n",
      "data 1.0638087\n",
      "pdf  0.0006103959060988678\n",
      "data -4.6918697\n",
      "pdf  0.00037765719570741815\n",
      "data -5.2456555\n",
      "pdf  0.0006103959060988678\n",
      "data -3.3276746\n",
      "pdf  0.00037765719570741815\n",
      "data -4.6090813\n",
      "pdf  0.0006103959060988678\n",
      "data -8.141927\n",
      "pdf  0.00037765719570741815\n",
      "data -4.6693363\n",
      "pdf  0.0006103959060988678\n",
      "data -11.462214\n",
      "pdf  0.00037765719570741815\n",
      "data -4.8630342\n",
      "*************************\n",
      "RETURN:\n",
      "[[0.0006103959060988678, 0.7453094672342929], [0.00037765719570741815, 0.13001103051604887], [1.8104125998962742e-07, 0.31046302524984243], [0.502491785471342, 0.5028927948049496], [6.598899501600105e-30, 6.936973315328094e-41], [3.1300918378451636e-18, 9.98383016159784e-34], [2.0318744376823965e-24, 2.2485685344261512e-34], [3.3233495900729193e-26, 1.690654448061629e-36]]\n"
     ]
    },
    {
     "data": {
      "image/png": "[encoded data removed]",
      "text/plain": [
       "<Figure size 720x360 with 1 Axes>"
      ]
     },
     "metadata": {
      "needs_background": "light"
     },
     "output_type": "display_data"
    }
   ],
   "source": [
    "data = np.float32(\n",
    "        np.vstack((\n",
    "            np.random.normal(\n",
    "                loc=np.array([5, 5]),\n",
    "                scale=np.array([3, 2]),\n",
    "                size=(4, 2)),\n",
    "            np.random.normal(\n",
    "                loc=np.array([-5, -5]),\n",
    "                scale=np.array([5, 1]),\n",
    "                size=(4, 2)\n",
    "            ))))\n",
    "\n",
    "print('DATA:')\n",
    "print(data)\n",
    "print('*'*20)\n",
    "\n",
    "plt.figure(figsize=(10, 5))\n",
    "plt.subplot(121)\n",
    "plt.plot(data[:, 0], data[:, 1], \"ko\")\n",
    "plt.title(\"Data points\")\n",
    "\n",
    "def prob_cluster(pixel, cent, std):\n",
    "    \"\"\"\n",
    "    Calculate the probability of association between a point and a\n",
    "    given Gaussian Distribution for each channel in a pixel.\n",
    "    -----\n",
    "    args pixel: the pixel. \n",
    "    args cent: the center of the Gaussian distribution. \n",
    "    args std: standard deviation OF Gaussian distribution. \n",
    "    -----\n",
    "    returns: PDF of each gaussian K for one pixel. \n",
    "    \"\"\"\n",
    "    gauss_pdf = []\n",
    "    # iterate over each gaussian distribution\n",
    "    for i in range(len(std)):\n",
    "        point_pdf = []\n",
    "        # iterate over each point x,y\n",
    "        for j in range(len(pixel)):\n",
    "            temp = 1/((math.sqrt(2*math.pi))*std[i][j]) * math.e**(-.5*math.pow((pixel[j]-cent[i][j])/std[i][j],2))\n",
    "            point_pdf.append(temp)\n",
    "        gauss_pdf.append(np.linalg.norm(point_pdf, axis=-1))  \n",
    "    return gauss_pdf\n",
    "\n",
    "def em(data, k, iter=5):\n",
    "    ch = 2\n",
    "    h, w = data.shape\n",
    "\n",
    "    # Randomly define a center for each K Gaussian components\n",
    "    # This center will be the randomly initialized peak for the initial gaussian (x,y) for each K\n",
    "    gaus_peak = np.random.random((k, ch)) * 5.0\n",
    "    print('GAUS_PEAKS:')\n",
    "    print(gaus_peak)\n",
    "    print('*'*20)\n",
    "    \n",
    "    # Probability that a point is in a given gaussian K\n",
    "    prob = np.full(k, (1.0 / k))\n",
    "    # STD of each point (x,y) being in a given gaussian K\n",
    "    std_gaus = np.full((k, ch), (1.0 / k))\n",
    "\n",
    "\n",
    "    # E-Step\n",
    "    # Assign each point a probability of being in each K Gaussian\n",
    "    pdf = []\n",
    "    for row in range(h):\n",
    "        pdf.append(prob_cluster(data[row], gaus_peak, std_gaus))\n",
    "        #pdf[row] = prob_cluster(data[row], gaus_peak, std_gaus)\n",
    "        #print(data[row])\n",
    "            #print(data[row][col])\n",
    "            #pdf[row][col] = prob_cluster(data[row][col], gaus_peak, std_gaus)\n",
    "    \n",
    "    # Assign each point to the nearest cluster\n",
    "    cluster = np.zeros(h)\n",
    "    for i in range(len(pdf)):\n",
    "        if(pdf[i][0] > pdf[i][1]):\n",
    "            cluster[i] = 0\n",
    "        else:\n",
    "            cluster[i] =1\n",
    "            \n",
    "    # M-Step\n",
    "    # Recalculate the Gaussian Distributions with newly assigned points\n",
    "    # PDF : 2,2000\n",
    "    pdf_reshaped = np.reshape(pdf, (len(pdf),2))\n",
    "    pdf_center_1 = pdf_reshaped[:,0]\n",
    "    pdf_center_2 = pdf_reshaped[:,1]\n",
    "    for i in range(h):\n",
    "        for distr in range(k):\n",
    "            #distr_sum_x = 0\n",
    "            print('pdf ',pdf_center_1[distr])\n",
    "            print('data', data[i][distr])\n",
    "           \n",
    "            \n",
    "    #for distr in range(k):\n",
    "        #distr_sum = 0\n",
    "        #for i in range(h):\n",
    "            #if(distr==0):\n",
    "               # distr_sum_x += pdf[i][distr]*data[i][distr]\n",
    "            #elif(distr==1):\n",
    "                # distr_sum_y += pdf[i][distr]*data[i][distr]\n",
    "            \n",
    "            \n",
    "            #distr_sum += pdf[i][distr]*data[i][distr]\n",
    "        #print('did this')\n",
    "        #gaus_peak[distr] = 3\n",
    "            #x = distr_sum / np.sum(pdf[:,distr])\n",
    "            \n",
    "            #print()\n",
    "            #distr_sum += pdf[i, j, distr] * data[i, j]\n",
    "        #gaus_peak[distr] = distr_sum / np.sum(pdf[:,distr])\n",
    "\n",
    "        \n",
    "    return pdf\n",
    "    \n",
    "\n",
    "x = em(data, k=2, iter=5)\n",
    "\n",
    "print('*'*25)\n",
    "print('RETURN:')\n",
    "print(x)"
   ]
  },
  {
   "cell_type": "code",
   "execution_count": null,
   "metadata": {},
   "outputs": [],
   "source": [
    "\n",
    "def k_means(img, k, iter_n):\n",
    "    \"\"\"\n",
    "    Segments the image\n",
    "    -----\n",
    "    args img: image to be segmented\n",
    "    args k: number of clusters\n",
    "    args iter: iteration numbers\n",
    "    \"\"\"\n",
    "    height, width, ch = img.shape\n",
    "    \n",
    "    # 1. Randomly select K centers\n",
    "    # We do this by create a random array of RGB or GRAY values for each K \n",
    "    centers = np.random.random_sample((k, ch))*255\n",
    "    \n",
    "    cluster_iter = []\n",
    "    for i in range(iter_n):\n",
    "        # 2. Assign each point to the nearest cluster\n",
    "        # Arr shape = (K, height, width), where K is cluster group\n",
    "        clusters = calc_distance(img, centers)\n",
    "        cluster_iter.append(clusters)\n",
    "        \n",
    "        # 3. Compute new mean for each cluster \n",
    "        new_centers = np.empty(shape=(k, ch))\n",
    "        for j in range(k):\n",
    "            np.mean(img[clusters[0]==j], axis=0, out=new_centers[j])\n",
    "            \n",
    "        # If new centers and centers are the same, exit iteration\n",
    "        if((centers == new_centers).all()):\n",
    "            break\n",
    "        else:\n",
    "            centers = new_centers\n",
    "            \n",
    "    return cluster_iter\n",
    "    \n",
    "def calc_distance(points, centers):\n",
    "    \"\"\"\n",
    "    Calculates the eucilidean distance between points and center\n",
    "    -----\n",
    "    args points: the points \n",
    "    args centers: the centers of the distributions\n",
    "    \"\"\"\n",
    "    dists = []\n",
    "    # Calculate the distance between each point and each center\n",
    "    for center in centers:\n",
    "        dists.append([points - center])\n",
    "    dists = np.linalg.norm(dists, axis=-1)\n",
    "    \n",
    "    # Return closest center of each point\n",
    "    return np.argmin(dists, axis=0)\n",
    "   \n",
    "def show_plot(imgs, cols=3, isGray = False):  \n",
    "    for i in range(len(imgs)):\n",
    "        plt.figure(figsize=(20, 4))\n",
    "        if(i==5):\n",
    "            plt.title(\"Final Iteration\")\n",
    "        else:\n",
    "            plt.title(\"Iteration number: \"+str(i))\n",
    "        plt.axis('off')\n",
    "        if(isGray):\n",
    "            plt.imshow(imgs[i][0].astype(np.uint8), cmap='gray')\n",
    "        else:\n",
    "            plt.imshow(imgs[i][0].astype(np.uint8))\n",
    "        plt.show()"
   ]
  }
 ],
 "metadata": {
  "kernelspec": {
   "display_name": "Python 3",
   "language": "python",
   "name": "python3"
  },
  "language_info": {
   "codemirror_mode": {
    "name": "ipython",
    "version": 3
   },
   "file_extension": ".py",
   "mimetype": "text/x-python",
   "name": "python",
   "nbconvert_exporter": "python",
   "pygments_lexer": "ipython3",
   "version": "3.7.2"
  }
 },
 "nbformat": 4,
 "nbformat_minor": 2
}
