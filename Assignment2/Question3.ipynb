{
 "cells": [
  {
   "cell_type": "markdown",
   "metadata": {},
   "source": [
    "# Question3"
   ]
  },
  {
   "cell_type": "markdown",
   "metadata": {},
   "source": [
    "## 3.1 - Training"
   ]
  },
  {
   "cell_type": "markdown",
   "metadata": {},
   "source": [
    "### 3.1.1 - Resize Images"
   ]
  },
  {
   "cell_type": "code",
   "execution_count": 3,
   "metadata": {},
   "outputs": [],
   "source": [
    "import numpy as np\n",
    "import cv2\n",
    "import matplotlib.pyplot as plt\n",
    "\n",
    "images = []\n",
    "\n",
    "# TODO: check if grayscale is correct for HoG\n",
    "\n",
    "# Read in each image, convert to Gray and resize, then append to list\n",
    "for i in range(1,15):\n",
    "    img_temp = cv2.imread(\"./car\"+str(i)+\".jpg\")\n",
    "    img_temp = cv2.cvtColor(img_temp, cv2.COLOR_BGR2GRAY) \n",
    "    img_temp = cv2.resize(img_temp, (128,128))\n",
    "    images.append(img_temp)"
   ]
  },
  {
   "cell_type": "markdown",
   "metadata": {},
   "source": [
    "### 3.1.2 - Compute HoG features"
   ]
  },
  {
   "cell_type": "code",
   "execution_count": 4,
   "metadata": {},
   "outputs": [],
   "source": [
    "# Make a function which takes list of images as arguments\n",
    "# and delivers list of HoG features as output. \n",
    "\n",
    "def hog_features(imgs_arr, cell_size=(4,4), block_size=(2,2), nbins=9):\n",
    "    hog_feats_arr = []\n",
    "    count = 0\n",
    "    for img in imgs_arr:\n",
    "        # Check window size\n",
    "        if(img.shape[0]%16!=0 or img.shape[1]%16!=0):\n",
    "            raise Exception('Invalid Image Size')\n",
    "        else:\n",
    "            # Compute window size\n",
    "            win_XY = img.shape[0] // cell_size[0] * cell_size[1]\n",
    "            \n",
    "            # Compute blocks\n",
    "            block_XY = block_size[0] * cell_size[0]\n",
    "            \n",
    "            # Create HoG object\n",
    "            hog = cv2.HOGDescriptor(_winSize = (win_XY, win_XY),\n",
    "                                    _blockSize = (block_XY, block_XY),\n",
    "                                    _blockStride = (cell_size[1], cell_size[0]),\n",
    "                                    _cellSize = (cell_size[1], cell_size[0]),\n",
    "                                    _nbins = nbins\n",
    "                                   )\n",
    "            \n",
    "            # Compute number of cells \n",
    "            n_cells = (img.shape[0] // cell_size[0], img.shape[1] // cell_size[1])\n",
    "            \n",
    "            # Compute HoG features\n",
    "            hog_feats = hog.compute(img) \\\n",
    "                            .reshape(n_cells[1] - block_size[1] + 1,\n",
    "                                     n_cells[0] - block_size[0] +1, \n",
    "                                     block_size[1], block_size[0], nbins) \\\n",
    "                            .transpose((1, 0, 3, 2, 4))\n",
    "            \n",
    "            hog_feats_arr.append(hog_feats)\n",
    "            \n",
    "    return hog_feats_arr\n",
    "            \n",
    "feats = hog_features(images)"
   ]
  },
  {
   "cell_type": "markdown",
   "metadata": {},
   "source": [
    "### 3.1.3 - Calculate mean feature map across training images"
   ]
  },
  {
   "cell_type": "code",
   "execution_count": 45,
   "metadata": {},
   "outputs": [],
   "source": [
    "# Map the HoGs\n",
    "# Do we iterate over each HoG and take the average??\n",
    "\n",
    "# Should still have 4 blocks\n",
    "\n",
    "height, width = feats[0][:,:,0,0,0].shape\n",
    "blocks_avg = []\n",
    "\n",
    "# Iterate over each block (0,0), (0,1), (1,0) and (1,1)\n",
    "# Iterate over each pixel, and find the average of that pixel for\n",
    "# the 14 trained image\n",
    "# Final array is a nested array with the average pixel for each block\n",
    "for l in range(2):\n",
    "    for k in range(2):\n",
    "        block_avg = np.zeros((height, width))\n",
    "        for h in range(height):\n",
    "            pixel_sum = 0\n",
    "            for w in range(width):\n",
    "                for i in range(len(feats)):\n",
    "                    pixel_sum = feats[i][:,:,k,l,0][h][w]\n",
    "                pixel_avg = pixel_sum / (len(feats))\n",
    "                block_avg[w][h]= pixel_avg\n",
    "                \n",
    "        blocks_avg.append(block_avg)"
   ]
  },
  {
   "cell_type": "markdown",
   "metadata": {},
   "source": [
    "### 3.1.4 - Repeat steps 3.1.2 - 3.1.3 for images flipped vertically"
   ]
  },
  {
   "cell_type": "code",
   "execution_count": 46,
   "metadata": {},
   "outputs": [],
   "source": [
    "imgs_flip = []\n",
    "\n",
    "# Flip image about the vertical axis -> ie across y-axis\n",
    "for img in images:\n",
    "    imgs_flip.append(cv2.flip(img, 1))\n",
    "    \n",
    "feats_flipped = hog_features(imgs_flip)\n",
    "\n",
    "# TODO: CHECK calculation for mean feature map\n",
    "\n",
    "height, width = feats[0][:,:,0,0,0].shape\n",
    "blocks_avg_rotated = []\n",
    "\n",
    "# Iterate over each block (0,0), (0,1), (1,0) and (1,1)\n",
    "# Iterate over each pixel, and find the average of that pixel for\n",
    "# the 14 trained image\n",
    "# Final array is a nested array with the average pixel for each block\n",
    "for l in range(2):\n",
    "    for k in range(2):\n",
    "        block_avg = np.zeros((height, width))\n",
    "        for h in range(height):\n",
    "            pixel_sum = 0\n",
    "            for w in range(width):\n",
    "                for i in range(len(feats_flipped)):\n",
    "                    pixel_sum = feats_flipped[i][:,:,k,l,0][h][w]\n",
    "                pixel_avg = pixel_sum / (len(feats))\n",
    "                block_avg[w][h]= pixel_avg\n",
    "                \n",
    "        blocks_avg_rotated.append(block_avg)"
   ]
  },
  {
   "cell_type": "markdown",
   "metadata": {},
   "source": [
    "### 3.1.5 - Display 9 orientation channels for first block"
   ]
  },
  {
   "cell_type": "code",
   "execution_count": null,
   "metadata": {},
   "outputs": [],
   "source": []
  }
 ],
 "metadata": {
  "kernelspec": {
   "display_name": "Python 3",
   "language": "python",
   "name": "python3"
  },
  "language_info": {
   "codemirror_mode": {
    "name": "ipython",
    "version": 3
   },
   "file_extension": ".py",
   "mimetype": "text/x-python",
   "name": "python",
   "nbconvert_exporter": "python",
   "pygments_lexer": "ipython3",
   "version": "3.7.2"
  }
 },
 "nbformat": 4,
 "nbformat_minor": 2
}
