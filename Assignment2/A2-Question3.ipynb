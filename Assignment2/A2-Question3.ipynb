{
 "cells": [
  {
   "cell_type": "markdown",
   "metadata": {},
   "source": [
    "# <center>ECSE 415 - Assignment 2</center>\n",
    "  ### <center>Patrick Erath - 260719203 </center>"
   ]
  },
  {
   "cell_type": "markdown",
   "metadata": {},
   "source": [
    "# Question3 - Object Detection"
   ]
  },
  {
   "cell_type": "markdown",
   "metadata": {},
   "source": [
    "## 3.1 - Training"
   ]
  },
  {
   "cell_type": "markdown",
   "metadata": {},
   "source": [
    "### 3.1.1 - Resize Images"
   ]
  },
  {
   "cell_type": "code",
   "execution_count": 2,
   "metadata": {},
   "outputs": [],
   "source": [
    "import numpy as np\n",
    "import cv2\n",
    "import matplotlib.pyplot as plt\n",
    "\n",
    "images = []\n",
    "\n",
    "# TODO: check if grayscale is correct for HoG\n",
    "\n",
    "# Read in each image, convert to Gray and resize, then append to list\n",
    "for i in range(1,15):\n",
    "    img_temp = cv2.imread(\"./car\"+str(i)+\".jpg\")\n",
    "    img_temp = cv2.cvtColor(img_temp, cv2.COLOR_BGR2GRAY) \n",
    "    img_temp = cv2.resize(img_temp, (128,128))\n",
    "    images.append(img_temp)"
   ]
  },
  {
   "cell_type": "markdown",
   "metadata": {},
   "source": [
    "### 3.1.2 - Compute HoG features"
   ]
  },
  {
   "cell_type": "code",
   "execution_count": 3,
   "metadata": {},
   "outputs": [],
   "source": [
    "# Make a function which takes list of images as arguments\n",
    "# and delivers list of HoG features as output. \n",
    "\n",
    "def hog_features(imgs_arr, cell_size=(4,4), block_size=(2,2), nbins=9):\n",
    "    hog_feats_arr = []\n",
    "    count = 0\n",
    "    for img in imgs_arr:\n",
    "        # Check window size\n",
    "        if(img.shape[0]%16!=0 or img.shape[1]%16!=0):\n",
    "            raise Exception('Invalid Image Size')\n",
    "        else:\n",
    "            # Compute window size\n",
    "            win_XY = img.shape[0] // cell_size[0] * cell_size[1]\n",
    "            \n",
    "            # Compute blocks\n",
    "            block_XY = block_size[0] * cell_size[0]\n",
    "            \n",
    "            # Create HoG object\n",
    "            hog = cv2.HOGDescriptor(_winSize = (win_XY, win_XY),\n",
    "                                    _blockSize = (block_XY, block_XY),\n",
    "                                    _blockStride = (cell_size[1], cell_size[0]),\n",
    "                                    _cellSize = (cell_size[1], cell_size[0]),\n",
    "                                    _nbins = nbins\n",
    "                                   )\n",
    "            \n",
    "            # Compute number of cells \n",
    "            n_cells = (img.shape[0] // cell_size[0], img.shape[1] // cell_size[1])\n",
    "            \n",
    "            # Compute HoG features\n",
    "            hog_feats = hog.compute(img) \\\n",
    "                            .reshape(n_cells[1] - block_size[1] + 1,\n",
    "                                     n_cells[0] - block_size[0] +1, \n",
    "                                     block_size[1], block_size[0], nbins) \\\n",
    "                            .transpose((1, 0, 3, 2, 4))\n",
    "            \n",
    "            hog_feats_arr.append(hog_feats)\n",
    "            \n",
    "    return hog_feats_arr\n",
    "            \n",
    "feats = hog_features(images)"
   ]
  },
  {
   "cell_type": "markdown",
   "metadata": {},
   "source": [
    "### 3.1.3 - Calculate mean feature map across training images"
   ]
  },
  {
   "cell_type": "code",
   "execution_count": 4,
   "metadata": {},
   "outputs": [],
   "source": [
    "# Map the HoGs\n",
    "# Do we iterate over each HoG and take the average??\n",
    "\n",
    "# Sum the features of the 14 trained images\n",
    "feats_sum = feats[0] + feats[1] + feats[2] + feats[3] + feats[4] + feats[5] + feats[6] + feats[7] + feats[8]  \\\n",
    "            + feats[9] + feats[10] + + feats[11] + feats[12] + feats[13]\n",
    "\n",
    "feats_mean = feats_sum / 14"
   ]
  },
  {
   "cell_type": "markdown",
   "metadata": {},
   "source": [
    "### 3.1.4 - Repeat steps 3.1.2 - 3.1.3 for images flipped vertically"
   ]
  },
  {
   "cell_type": "code",
   "execution_count": 5,
   "metadata": {},
   "outputs": [],
   "source": [
    "imgs_flip = []\n",
    "\n",
    "# Flip image about the vertical axis -> ie across y-axis\n",
    "for img in images:\n",
    "    imgs_flip.append(cv2.flip(img, 1))\n",
    "    \n",
    "feats_flip = hog_features(imgs_flip)\n",
    "\n",
    "# Sum the features of the 14 trained images\n",
    "feats_sum = feats_flip[0] + feats_flip[1] + feats_flip[2] + feats_flip[3] + feats_flip[4] + feats_flip[5] \\\n",
    "            + feats_flip[6] + feats_flip[7] + feats_flip[8] + feats[9] + feats[10] + feats[11] \\\n",
    "            + feats[12] + feats[13]\n",
    "\n",
    "feats_flip_mean = feats_sum / 14\n"
   ]
  },
  {
   "cell_type": "markdown",
   "metadata": {},
   "source": [
    "### 3.1.5 - Display 9 orientation channels for first block"
   ]
  },
  {
   "cell_type": "code",
   "execution_count": 6,
   "metadata": {},
   "outputs": [
    {
     "data": {
      "image/png": "[encoded data removed]",
      "text/plain": [
       "<Figure size 432x288 with 1 Axes>"
      ]
     },
     "metadata": {
      "needs_background": "light"
     },
     "output_type": "display_data"
    }
   ],
   "source": [
    "first_block = feats_mean[:, :, 0,0,0]\n",
    "\n",
    "# Normalize array for display\n",
    "normalized_array = np.reshape(first_block, (1,31*31))\n",
    "\n",
    "# Display mean feature map with 9 orientation channels\n",
    "plt.hist(normalized_array[0], 9, color='b')\n",
    "plt.title(\"Orientation Channels for first block\")\n",
    "plt.show()"
   ]
  },
  {
   "cell_type": "markdown",
   "metadata": {},
   "source": [
    "## 3.2 - Testing"
   ]
  },
  {
   "cell_type": "markdown",
   "metadata": {},
   "source": [
    "### 3.2.1 - Extract overlapping windows from test image"
   ]
  },
  {
   "cell_type": "code",
   "execution_count": 7,
   "metadata": {},
   "outputs": [],
   "source": [
    "import time # TODO: REMOVE\n",
    "\n",
    "test_img = cv2.imread('test.jpg')\n",
    "test_img = cv2.cvtColor(test_img, cv2.COLOR_BGR2GRAY)\n",
    "\n",
    "# Step size is the \"step\" (or over lap) when sliding \n",
    "# an overlapping 128x128 window across the image\n",
    "stepSize = 32\n",
    "winX = (test_img.shape[1] // stepSize) * stepSize\n",
    "winY = (test_img.shape[0] // stepSize) * stepSize\n",
    "\n",
    "test_img = cv2.resize(test_img, (winX, winY))\n",
    "\n",
    "windows_array = []\n",
    "\n",
    "def sliding_window(image, stepSize, windowSize=(128,128)):\n",
    "    # Sliding the window across the image\n",
    "    for y in range(0, image.shape[0], stepSize):\n",
    "        for x in range(0, image.shape[1], stepSize):\n",
    "            yield (x, y, image[y:y + windowSize[1], x:x + windowSize[0]])\n",
    "\n",
    "\n",
    "# 1. Create a sliding window by sliding a 128x128 window across the image\n",
    "for (x, y, window) in sliding_window(test_img, stepSize):\n",
    "    if window.shape[0] != 128 or window.shape[1] != 128:\n",
    "        continue\n",
    "    else:\n",
    "        # Append the given window to a window array\n",
    "        windows_array.append(window)"
   ]
  },
  {
   "cell_type": "markdown",
   "metadata": {},
   "source": [
    "### 3.2.2 - Compute HoG features for each window "
   ]
  },
  {
   "cell_type": "code",
   "execution_count": 8,
   "metadata": {},
   "outputs": [],
   "source": [
    "# NOTE: Resizing the windows to 128x128 is not necessary because \n",
    "# a sliding window of 128x128 was used. Thus the windows are already\n",
    "# of size 128x128\n",
    "\n",
    "window_feats = hog_features(windows_array)"
   ]
  },
  {
   "cell_type": "markdown",
   "metadata": {},
   "source": [
    "### 3.2.3 - Compute Euclidean Distance  "
   ]
  },
  {
   "cell_type": "code",
   "execution_count": 11,
   "metadata": {},
   "outputs": [],
   "source": [
    "# Compute the euclidean distance between the feature map of each\n",
    "# window and the mean feature map of training images\n",
    "\n",
    "# For non-flipped images\n",
    "euclidean_distance = []\n",
    "\n",
    "#print(feats_mean)"
   ]
  },
  {
   "cell_type": "markdown",
   "metadata": {},
   "source": [
    "### 3.2.4 - Threshold the distances"
   ]
  },
  {
   "cell_type": "code",
   "execution_count": null,
   "metadata": {},
   "outputs": [],
   "source": [
    "#TODO"
   ]
  },
  {
   "cell_type": "markdown",
   "metadata": {},
   "source": [
    "### 3.2.5 - Experiment with the size of the window, stride and detection threshold"
   ]
  },
  {
   "cell_type": "code",
   "execution_count": 12,
   "metadata": {},
   "outputs": [],
   "source": [
    "#TODO"
   ]
  },
  {
   "cell_type": "code",
   "execution_count": null,
   "metadata": {},
   "outputs": [],
   "source": [
    "# Iterate over each block (0,0), (0,1), (1,0) and (1,1)\n",
    "# Iterate over each pixel, and find the average of that pixel for\n",
    "# the 14 trained image\n",
    "# Final array is a nested array with the average pixel for each block\n",
    "for l in range(2):\n",
    "    for k in range(2):\n",
    "        block_avg = np.zeros((height, width))\n",
    "        for h in range(height):\n",
    "            pixel_sum = 0\n",
    "            for w in range(width):\n",
    "                for i in range(len(feats)):\n",
    "                    pixel_sum = feats[i][:,:,k,l,0][h][w]\n",
    "                pixel_avg = pixel_sum / (len(feats))\n",
    "                block_avg[w][h]= pixel_avg\n",
    "                \n",
    "        blocks_avg.append(block_avg)"
   ]
  }
 ],
 "metadata": {
  "kernelspec": {
   "display_name": "Python 3",
   "language": "python",
   "name": "python3"
  },
  "language_info": {
   "codemirror_mode": {
    "name": "ipython",
    "version": 3
   },
   "file_extension": ".py",
   "mimetype": "text/x-python",
   "name": "python",
   "nbconvert_exporter": "python",
   "pygments_lexer": "ipython3",
   "version": "3.7.2"
  }
 },
 "nbformat": 4,
 "nbformat_minor": 2
}
